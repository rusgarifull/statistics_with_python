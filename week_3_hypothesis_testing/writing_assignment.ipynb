{
 "cells": [
  {
   "cell_type": "code",
   "execution_count": 15,
   "metadata": {},
   "outputs": [],
   "source": [
    "import statsmodels.api as sm\n",
    "import numpy as np"
   ]
  },
  {
   "cell_type": "code",
   "execution_count": 86,
   "metadata": {},
   "outputs": [
    {
     "data": {
      "text/plain": [
       "(57.0, 82.66666666666667, 52.666666666666664)"
      ]
     },
     "execution_count": 86,
     "metadata": {},
     "output_type": "execute_result"
    }
   ],
   "source": [
    "# sample size\n",
    "n=9\n",
    "t = 2.31 # for df=8 and 95% conf. level\n",
    "\n",
    "# baseline\n",
    "mu_baseline = 1367\n",
    "sd_baseline = 171\n",
    "se_b = sd_baseline/np.sqrt(n)\n",
    "\n",
    "# WC\n",
    "mu_wc = 1419\n",
    "sd_wc = 248\n",
    "se_wc = sd_wc/np.sqrt(n)\n",
    "\n",
    "# BC\n",
    "mu_bc = 1606\n",
    "sd_bc = 158\n",
    "se_bc = sd_bc/np.sqrt(n)\n",
    "\n",
    "se_b, se_wc, se_bc"
   ]
  },
  {
   "cell_type": "code",
   "execution_count": 93,
   "metadata": {},
   "outputs": [
    {
     "name": "stdout",
     "output_type": "stream",
     "text": [
      "52 231.95411291891335\n"
     ]
    }
   ],
   "source": [
    "# Conf intervals WC <-> baseline\n",
    "mu_wc_diff = mu_wc - mu_baseline\n",
    "ci_wc_diff = t*np.sqrt(se_wc**2 + se_b**2)\n",
    "\n",
    "print(mu_wc_diff, ci_wc_diff)"
   ]
  },
  {
   "cell_type": "code",
   "execution_count": 94,
   "metadata": {},
   "outputs": [
    {
     "name": "stdout",
     "output_type": "stream",
     "text": [
      "239 231.95411291891335\n"
     ]
    }
   ],
   "source": [
    "# Conf intervals BC <-> baseline\n",
    "mu_bc_diff = mu_bc - mu_baseline\n",
    "ci_bc_diff = t*np.sqrt(se_bc**2 + se_b**2) # should be 75\n",
    "\n",
    "print(mu_bc_diff, ci_wc_diff) "
   ]
  },
  {
   "cell_type": "code",
   "execution_count": 95,
   "metadata": {},
   "outputs": [
    {
     "name": "stdout",
     "output_type": "stream",
     "text": [
      "187 231.95411291891335\n"
     ]
    }
   ],
   "source": [
    "# Conf intervals BC <-> WC\n",
    "mu_bc_diff = mu_bc - mu_wc\n",
    "ci_bc_diff = t*np.sqrt(se_bc**2 + se_wc**2) # should be 105\n",
    "\n",
    "print(mu_bc_diff, ci_wc_diff)"
   ]
  }
 ],
 "metadata": {
  "kernelspec": {
   "display_name": "Python 3",
   "language": "python",
   "name": "python3"
  },
  "language_info": {
   "codemirror_mode": {
    "name": "ipython",
    "version": 3
   },
   "file_extension": ".py",
   "mimetype": "text/x-python",
   "name": "python",
   "nbconvert_exporter": "python",
   "pygments_lexer": "ipython3",
   "version": "3.6.3"
  }
 },
 "nbformat": 4,
 "nbformat_minor": 2
}
